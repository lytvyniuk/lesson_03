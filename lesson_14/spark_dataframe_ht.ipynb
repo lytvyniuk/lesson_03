{
  "cells": [
    {
      "cell_type": "code",
      "execution_count": 63,
      "metadata": {
        "collapsed": true,
        "id": "4b1dCQDST3wG"
      },
      "outputs": [],
      "source": [
        "from pyspark.sql import SparkSession, functions as F, types as T\n",
        "from pyspark.sql.functions import countDistinct"
      ]
    },
    {
      "cell_type": "code",
      "execution_count": 5,
      "metadata": {
        "pycharm": {
          "is_executing": true
        },
        "id": "t0WZwx-iT3wH"
      },
      "outputs": [],
      "source": [
        "spark = SparkSession.builder.master('local[*]').getOrCreate()"
      ]
    },
    {
      "cell_type": "code",
      "execution_count": 4,
      "metadata": {
        "colab": {
          "base_uri": "https://localhost:8080/"
        },
        "id": "lPQqLKwxT3wH",
        "outputId": "42f75c64-1bdb-4a0f-9c90-1e7e6a1fb05e"
      },
      "outputs": [
        {
          "output_type": "stream",
          "name": "stdout",
          "text": [
            "3.4.1\n"
          ]
        }
      ],
      "source": [
        "print(spark.version)"
      ]
    },
    {
      "cell_type": "code",
      "execution_count": 7,
      "metadata": {
        "collapsed": true,
        "colab": {
          "base_uri": "https://localhost:8080/",
          "height": 356
        },
        "id": "JQeRo27zT3wH",
        "outputId": "0fb0b171-6026-4bb6-e1a7-addc256d30a8"
      },
      "outputs": [
        {
          "output_type": "error",
          "ename": "AnalysisException",
          "evalue": "[PATH_NOT_FOUND] Path does not exist: file:/content/data/actor.csv.",
          "traceback": [
            "\u001b[0;31m---------------------------------------------------------------------------\u001b[0m",
            "\u001b[0;31mAnalysisException\u001b[0m                         Traceback (most recent call last)",
            "\u001b[0;32m<ipython-input-7-209ad709b388>\u001b[0m in \u001b[0;36m<cell line: 1>\u001b[0;34m()\u001b[0m\n\u001b[0;32m----> 1\u001b[0;31m \u001b[0mactor_df\u001b[0m \u001b[0;34m=\u001b[0m \u001b[0mspark\u001b[0m\u001b[0;34m.\u001b[0m\u001b[0mread\u001b[0m\u001b[0;34m.\u001b[0m\u001b[0mcsv\u001b[0m\u001b[0;34m(\u001b[0m\u001b[0;34m'./data/actor.csv'\u001b[0m\u001b[0;34m,\u001b[0m \u001b[0mheader\u001b[0m\u001b[0;34m=\u001b[0m\u001b[0;32mTrue\u001b[0m\u001b[0;34m,\u001b[0m \u001b[0minferSchema\u001b[0m\u001b[0;34m=\u001b[0m\u001b[0;32mTrue\u001b[0m\u001b[0;34m)\u001b[0m\u001b[0;34m\u001b[0m\u001b[0;34m\u001b[0m\u001b[0m\n\u001b[0m\u001b[1;32m      2\u001b[0m \u001b[0maddress_df\u001b[0m \u001b[0;34m=\u001b[0m \u001b[0mspark\u001b[0m\u001b[0;34m.\u001b[0m\u001b[0mread\u001b[0m\u001b[0;34m.\u001b[0m\u001b[0mcsv\u001b[0m\u001b[0;34m(\u001b[0m\u001b[0;34m'./data/address.csv'\u001b[0m\u001b[0;34m,\u001b[0m \u001b[0mheader\u001b[0m\u001b[0;34m=\u001b[0m\u001b[0;32mTrue\u001b[0m\u001b[0;34m,\u001b[0m \u001b[0minferSchema\u001b[0m\u001b[0;34m=\u001b[0m\u001b[0;32mTrue\u001b[0m\u001b[0;34m)\u001b[0m\u001b[0;34m\u001b[0m\u001b[0;34m\u001b[0m\u001b[0m\n\u001b[1;32m      3\u001b[0m \u001b[0mcategory_df\u001b[0m \u001b[0;34m=\u001b[0m \u001b[0mspark\u001b[0m\u001b[0;34m.\u001b[0m\u001b[0mread\u001b[0m\u001b[0;34m.\u001b[0m\u001b[0mcsv\u001b[0m\u001b[0;34m(\u001b[0m\u001b[0;34m'./data/category.csv'\u001b[0m\u001b[0;34m,\u001b[0m \u001b[0mheader\u001b[0m\u001b[0;34m=\u001b[0m\u001b[0;32mTrue\u001b[0m\u001b[0;34m,\u001b[0m \u001b[0minferSchema\u001b[0m\u001b[0;34m=\u001b[0m\u001b[0;32mTrue\u001b[0m\u001b[0;34m)\u001b[0m\u001b[0;34m\u001b[0m\u001b[0;34m\u001b[0m\u001b[0m\n\u001b[1;32m      4\u001b[0m \u001b[0mcity_df\u001b[0m \u001b[0;34m=\u001b[0m \u001b[0mspark\u001b[0m\u001b[0;34m.\u001b[0m\u001b[0mread\u001b[0m\u001b[0;34m.\u001b[0m\u001b[0mcsv\u001b[0m\u001b[0;34m(\u001b[0m\u001b[0;34m'./data/city.csv'\u001b[0m\u001b[0;34m,\u001b[0m \u001b[0mheader\u001b[0m\u001b[0;34m=\u001b[0m\u001b[0;32mTrue\u001b[0m\u001b[0;34m,\u001b[0m \u001b[0minferSchema\u001b[0m\u001b[0;34m=\u001b[0m\u001b[0;32mTrue\u001b[0m\u001b[0;34m)\u001b[0m\u001b[0;34m\u001b[0m\u001b[0;34m\u001b[0m\u001b[0m\n\u001b[1;32m      5\u001b[0m \u001b[0mcountry_df\u001b[0m \u001b[0;34m=\u001b[0m \u001b[0mspark\u001b[0m\u001b[0;34m.\u001b[0m\u001b[0mread\u001b[0m\u001b[0;34m.\u001b[0m\u001b[0mcsv\u001b[0m\u001b[0;34m(\u001b[0m\u001b[0;34m'./data/country.csv'\u001b[0m\u001b[0;34m,\u001b[0m \u001b[0mheader\u001b[0m\u001b[0;34m=\u001b[0m\u001b[0;32mTrue\u001b[0m\u001b[0;34m,\u001b[0m \u001b[0minferSchema\u001b[0m\u001b[0;34m=\u001b[0m\u001b[0;32mTrue\u001b[0m\u001b[0;34m)\u001b[0m\u001b[0;34m\u001b[0m\u001b[0;34m\u001b[0m\u001b[0m\n",
            "\u001b[0;32m/usr/local/lib/python3.10/dist-packages/pyspark/sql/readwriter.py\u001b[0m in \u001b[0;36mcsv\u001b[0;34m(self, path, schema, sep, encoding, quote, escape, comment, header, inferSchema, ignoreLeadingWhiteSpace, ignoreTrailingWhiteSpace, nullValue, nanValue, positiveInf, negativeInf, dateFormat, timestampFormat, maxColumns, maxCharsPerColumn, maxMalformedLogPerPartition, mode, columnNameOfCorruptRecord, multiLine, charToEscapeQuoteEscaping, samplingRatio, enforceSchema, emptyValue, locale, lineSep, pathGlobFilter, recursiveFileLookup, modifiedBefore, modifiedAfter, unescapedQuoteHandling)\u001b[0m\n\u001b[1;32m    725\u001b[0m         \u001b[0;32mif\u001b[0m \u001b[0mtype\u001b[0m\u001b[0;34m(\u001b[0m\u001b[0mpath\u001b[0m\u001b[0;34m)\u001b[0m \u001b[0;34m==\u001b[0m \u001b[0mlist\u001b[0m\u001b[0;34m:\u001b[0m\u001b[0;34m\u001b[0m\u001b[0;34m\u001b[0m\u001b[0m\n\u001b[1;32m    726\u001b[0m             \u001b[0;32massert\u001b[0m \u001b[0mself\u001b[0m\u001b[0;34m.\u001b[0m\u001b[0m_spark\u001b[0m\u001b[0;34m.\u001b[0m\u001b[0m_sc\u001b[0m\u001b[0;34m.\u001b[0m\u001b[0m_jvm\u001b[0m \u001b[0;32mis\u001b[0m \u001b[0;32mnot\u001b[0m \u001b[0;32mNone\u001b[0m\u001b[0;34m\u001b[0m\u001b[0;34m\u001b[0m\u001b[0m\n\u001b[0;32m--> 727\u001b[0;31m             \u001b[0;32mreturn\u001b[0m \u001b[0mself\u001b[0m\u001b[0;34m.\u001b[0m\u001b[0m_df\u001b[0m\u001b[0;34m(\u001b[0m\u001b[0mself\u001b[0m\u001b[0;34m.\u001b[0m\u001b[0m_jreader\u001b[0m\u001b[0;34m.\u001b[0m\u001b[0mcsv\u001b[0m\u001b[0;34m(\u001b[0m\u001b[0mself\u001b[0m\u001b[0;34m.\u001b[0m\u001b[0m_spark\u001b[0m\u001b[0;34m.\u001b[0m\u001b[0m_sc\u001b[0m\u001b[0;34m.\u001b[0m\u001b[0m_jvm\u001b[0m\u001b[0;34m.\u001b[0m\u001b[0mPythonUtils\u001b[0m\u001b[0;34m.\u001b[0m\u001b[0mtoSeq\u001b[0m\u001b[0;34m(\u001b[0m\u001b[0mpath\u001b[0m\u001b[0;34m)\u001b[0m\u001b[0;34m)\u001b[0m\u001b[0;34m)\u001b[0m\u001b[0;34m\u001b[0m\u001b[0;34m\u001b[0m\u001b[0m\n\u001b[0m\u001b[1;32m    728\u001b[0m         \u001b[0;32melif\u001b[0m \u001b[0misinstance\u001b[0m\u001b[0;34m(\u001b[0m\u001b[0mpath\u001b[0m\u001b[0;34m,\u001b[0m \u001b[0mRDD\u001b[0m\u001b[0;34m)\u001b[0m\u001b[0;34m:\u001b[0m\u001b[0;34m\u001b[0m\u001b[0;34m\u001b[0m\u001b[0m\n\u001b[1;32m    729\u001b[0m \u001b[0;34m\u001b[0m\u001b[0m\n",
            "\u001b[0;32m/usr/local/lib/python3.10/dist-packages/py4j/java_gateway.py\u001b[0m in \u001b[0;36m__call__\u001b[0;34m(self, *args)\u001b[0m\n\u001b[1;32m   1320\u001b[0m \u001b[0;34m\u001b[0m\u001b[0m\n\u001b[1;32m   1321\u001b[0m         \u001b[0manswer\u001b[0m \u001b[0;34m=\u001b[0m \u001b[0mself\u001b[0m\u001b[0;34m.\u001b[0m\u001b[0mgateway_client\u001b[0m\u001b[0;34m.\u001b[0m\u001b[0msend_command\u001b[0m\u001b[0;34m(\u001b[0m\u001b[0mcommand\u001b[0m\u001b[0;34m)\u001b[0m\u001b[0;34m\u001b[0m\u001b[0;34m\u001b[0m\u001b[0m\n\u001b[0;32m-> 1322\u001b[0;31m         return_value = get_return_value(\n\u001b[0m\u001b[1;32m   1323\u001b[0m             answer, self.gateway_client, self.target_id, self.name)\n\u001b[1;32m   1324\u001b[0m \u001b[0;34m\u001b[0m\u001b[0m\n",
            "\u001b[0;32m/usr/local/lib/python3.10/dist-packages/pyspark/errors/exceptions/captured.py\u001b[0m in \u001b[0;36mdeco\u001b[0;34m(*a, **kw)\u001b[0m\n\u001b[1;32m    173\u001b[0m                 \u001b[0;31m# Hide where the exception came from that shows a non-Pythonic\u001b[0m\u001b[0;34m\u001b[0m\u001b[0;34m\u001b[0m\u001b[0m\n\u001b[1;32m    174\u001b[0m                 \u001b[0;31m# JVM exception message.\u001b[0m\u001b[0;34m\u001b[0m\u001b[0;34m\u001b[0m\u001b[0m\n\u001b[0;32m--> 175\u001b[0;31m                 \u001b[0;32mraise\u001b[0m \u001b[0mconverted\u001b[0m \u001b[0;32mfrom\u001b[0m \u001b[0;32mNone\u001b[0m\u001b[0;34m\u001b[0m\u001b[0;34m\u001b[0m\u001b[0m\n\u001b[0m\u001b[1;32m    176\u001b[0m             \u001b[0;32melse\u001b[0m\u001b[0;34m:\u001b[0m\u001b[0;34m\u001b[0m\u001b[0;34m\u001b[0m\u001b[0m\n\u001b[1;32m    177\u001b[0m                 \u001b[0;32mraise\u001b[0m\u001b[0;34m\u001b[0m\u001b[0;34m\u001b[0m\u001b[0m\n",
            "\u001b[0;31mAnalysisException\u001b[0m: [PATH_NOT_FOUND] Path does not exist: file:/content/data/actor.csv."
          ]
        }
      ],
      "source": [
        "actor_df = spark.read.csv('./data/actor.csv', header=True, inferSchema=True)\n",
        "address_df = spark.read.csv('./data/address.csv', header=True, inferSchema=True)\n",
        "category_df = spark.read.csv('./data/category.csv', header=True, inferSchema=True)\n",
        "city_df = spark.read.csv('./data/city.csv', header=True, inferSchema=True)\n",
        "country_df = spark.read.csv('./data/country.csv', header=True, inferSchema=True)\n",
        "customer_df = spark.read.csv('./data/customer.csv', header=True, inferSchema=True)\n",
        "film_df = spark.read.csv('./data/film.csv', header=True, inferSchema=True)\n",
        "film_actor_df = spark.read.csv('./data/film_actor.csv', header=True, inferSchema=True)\n",
        "film_category_df = spark.read.csv('./data/film_category.csv', header=True, inferSchema=True)\n",
        "inventory_df = spark.read.csv('./data/inventory.csv', header=True, inferSchema=True)\n",
        "language_df = spark.read.csv('./data/language.csv', header=True, inferSchema=True)\n",
        "payment_df = spark.read.csv('./data/payment.csv', header=True, inferSchema=True)\n",
        "rental_df = spark.read.csv('./data/rental.csv', header=True, inferSchema=True)\n",
        "staff_df = spark.read.csv('./data/staff.csv', header=True, inferSchema=True)\n",
        "store_df = spark.read.csv('./data/store.csv', header=True, inferSchema=True)"
      ]
    },
    {
      "cell_type": "markdown",
      "metadata": {
        "collapsed": false,
        "id": "N7NqCmAhT3wI"
      },
      "source": [
        "# Домашнє завдання на тему Spark SQL\n",
        "\n",
        "Задачі з домашнього завдання на SQL потрібно розвʼязати за допомогою Spark SQL DataFrame API.\n",
        "\n",
        "- Дампи таблиць знаходяться в папці `data`. Датафрейми таблиць вже створені в клітинці вище.\n",
        "- Можете створювати стільки нових клітинок, скільки вам необхідно.\n",
        "- Розвʼязок кожної задачі має бути відображений в самому файлі (використати метод `.show()`)\n",
        "- код має бути оформлений у відповідності із одним із стилем, показаним лектором на занятті 13.\n",
        "\n",
        "**Увага!**\n",
        "Використовувати мову запитів SQL безпосередньо забороняється, потрібно використовувати виключно DataFrame API!\n"
      ]
    },
    {
      "cell_type": "markdown",
      "metadata": {
        "collapsed": false,
        "id": "qmkxy13vT3wJ"
      },
      "source": [
        "1.\n",
        "Вивести кількість фільмів в кожній категорії.\n",
        "Результат відсортувати за спаданням."
      ]
    },
    {
      "cell_type": "code",
      "execution_count": 27,
      "metadata": {
        "colab": {
          "base_uri": "https://localhost:8080/"
        },
        "id": "fVxXGf5oT3wJ",
        "outputId": "165182ae-dcac-41c2-cacd-df17a63065fc"
      },
      "outputs": [
        {
          "output_type": "stream",
          "name": "stdout",
          "text": [
            "+-----------+-----------+-----+\n",
            "|category_id|       name|count|\n",
            "+-----------+-----------+-----+\n",
            "|         15|     Sports|   74|\n",
            "|          9|    Foreign|   73|\n",
            "|          8|     Family|   69|\n",
            "|          6|Documentary|   68|\n",
            "|          2|  Animation|   66|\n",
            "|          1|     Action|   64|\n",
            "|         13|        New|   63|\n",
            "|          7|      Drama|   62|\n",
            "|         10|      Games|   61|\n",
            "|         14|     Sci-Fi|   61|\n",
            "|          3|   Children|   60|\n",
            "|          5|     Comedy|   58|\n",
            "|         16|     Travel|   57|\n",
            "|          4|   Classics|   57|\n",
            "|         11|     Horror|   56|\n",
            "|         12|      Music|   51|\n",
            "+-----------+-----------+-----+\n",
            "\n"
          ]
        }
      ],
      "source": [
        "films_df = film_category_df.groupBy(\"category_id\").count()\n",
        "df_joined = category_df[[\"category_id\", \"name\"]].join(films_df, on=\"category_id\", how=\"inner\")\n",
        "df_joined.sort(df_joined[\"count\"].desc()).show()"
      ]
    },
    {
      "cell_type": "markdown",
      "metadata": {
        "collapsed": false,
        "id": "GXBaGuCpT3wK"
      },
      "source": [
        "2.\n",
        "Вивести 10 акторів, чиї фільми брали на прокат найбільше.\n",
        "Результат відсортувати за спаданням."
      ]
    },
    {
      "cell_type": "code",
      "execution_count": 29,
      "metadata": {
        "colab": {
          "base_uri": "https://localhost:8080/"
        },
        "id": "6wcedCGST3wK",
        "outputId": "77e37cdf-bf8d-4172-f9bb-1eb2c0f8ffcb"
      },
      "outputs": [
        {
          "output_type": "stream",
          "name": "stdout",
          "text": [
            "+------------+-------+--------+-------------------+\n",
            "|inventory_id|film_id|store_id|        last_update|\n",
            "+------------+-------+--------+-------------------+\n",
            "|           1|      1|       1|2022-02-15 10:09:17|\n",
            "|           2|      1|       1|2022-02-15 10:09:17|\n",
            "|           3|      1|       1|2022-02-15 10:09:17|\n",
            "|           4|      1|       1|2022-02-15 10:09:17|\n",
            "|           5|      1|       2|2022-02-15 10:09:17|\n",
            "|           6|      1|       2|2022-02-15 10:09:17|\n",
            "|           7|      1|       2|2022-02-15 10:09:17|\n",
            "|           8|      1|       2|2022-02-15 10:09:17|\n",
            "|           9|      2|       2|2022-02-15 10:09:17|\n",
            "|          10|      2|       2|2022-02-15 10:09:17|\n",
            "|          11|      2|       2|2022-02-15 10:09:17|\n",
            "|          12|      3|       2|2022-02-15 10:09:17|\n",
            "|          13|      3|       2|2022-02-15 10:09:17|\n",
            "|          14|      3|       2|2022-02-15 10:09:17|\n",
            "|          15|      3|       2|2022-02-15 10:09:17|\n",
            "|          16|      4|       1|2022-02-15 10:09:17|\n",
            "|          17|      4|       1|2022-02-15 10:09:17|\n",
            "|          18|      4|       1|2022-02-15 10:09:17|\n",
            "|          19|      4|       1|2022-02-15 10:09:17|\n",
            "|          20|      4|       2|2022-02-15 10:09:17|\n",
            "+------------+-------+--------+-------------------+\n",
            "only showing top 20 rows\n",
            "\n"
          ]
        }
      ],
      "source": [
        "inventory_df.show()"
      ]
    },
    {
      "cell_type": "code",
      "source": [
        "df_joined = rental_df.join(inventory_df, on=\"inventory_id\", how=\"inner\")\n",
        "df_joined = df_joined.join(film_actor_df, on=\"film_id\", how=\"inner\")\n",
        "df_joined = df_joined.join(actor_df, on=\"actor_id\", how=\"inner\")\n",
        "df_grouped = df_joined.groupBy([\"first_name\", \"last_name\"]).count()\n",
        "df_grouped.sort(df_grouped[\"count\"].desc()).show()"
      ],
      "metadata": {
        "colab": {
          "base_uri": "https://localhost:8080/"
        },
        "id": "z0cazxVvPK6Y",
        "outputId": "06602062-e04f-4b09-fad5-0cbcd7c22225"
      },
      "execution_count": 36,
      "outputs": [
        {
          "output_type": "stream",
          "name": "stdout",
          "text": [
            "+----------+-----------+-----+\n",
            "|first_name|  last_name|count|\n",
            "+----------+-----------+-----+\n",
            "|     SUSAN|      DAVIS|  825|\n",
            "|      GINA|  DEGENERES|  753|\n",
            "|   MATTHEW|     CARREY|  678|\n",
            "|      MARY|     KEITEL|  674|\n",
            "|    ANGELA|WITHERSPOON|  654|\n",
            "|    WALTER|       TORN|  640|\n",
            "|     HENRY|      BERRY|  612|\n",
            "|     JAYNE|      NOLTE|  611|\n",
            "|       VAL|     BOLGER|  605|\n",
            "|    SANDRA|     KILMER|  604|\n",
            "|      SEAN|    GUINESS|  599|\n",
            "|    ANGELA|     HUDSON|  574|\n",
            "|  SCARLETT|      DAMON|  572|\n",
            "|      EWAN|    GOODING|  571|\n",
            "|     KEVIN|    GARLAND|  565|\n",
            "|    WARREN|      NOLTE|  564|\n",
            "|   CAMERON|  ZELLWEGER|  560|\n",
            "|     WOODY|    HOFFMAN|  560|\n",
            "|      JADA|      RYDER|  560|\n",
            "|     HELEN|     VOIGHT|  557|\n",
            "+----------+-----------+-----+\n",
            "only showing top 20 rows\n",
            "\n"
          ]
        }
      ]
    },
    {
      "cell_type": "markdown",
      "metadata": {
        "collapsed": false,
        "id": "HAuJdWrTT3wK"
      },
      "source": [
        "3.\n",
        "Вивести категорія фільмів, на яку було витрачено найбільше грошей\n",
        "в прокаті"
      ]
    },
    {
      "cell_type": "code",
      "execution_count": 73,
      "metadata": {
        "colab": {
          "base_uri": "https://localhost:8080/"
        },
        "id": "7Jrm3bH9T3wK",
        "outputId": "fae2d27c-2eeb-48bd-c34f-4dd766ce77fd"
      },
      "outputs": [
        {
          "output_type": "stream",
          "name": "stdout",
          "text": [
            "+------+-----------------+\n",
            "|  name|      sum(amount)|\n",
            "+------+-----------------+\n",
            "|Sports|5314.209999999843|\n",
            "+------+-----------------+\n",
            "\n"
          ]
        }
      ],
      "source": [
        "df_joined = film_category_df.join(category_df, on=\"category_id\", how=\"inner\")\n",
        "df_joined = df_joined.join(film_df, on=\"film_id\", how=\"inner\")\n",
        "df_joined = df_joined.join(inventory_df, on=\"film_id\", how=\"inner\")\n",
        "df_joined = df_joined.join(rental_df, on=\"inventory_id\", how=\"inner\")\n",
        "df_joined = df_joined.join(payment_df, on=\"rental_id\", how=\"inner\")\n",
        "\n",
        "df_grouped = df_joined.groupBy(\"name\").sum(\"amount\")\n",
        "df_grouped.sort(df_grouped[\"sum(amount)\"].desc()).limit(1).show()"
      ]
    },
    {
      "cell_type": "markdown",
      "metadata": {
        "collapsed": false,
        "id": "iJCZzaOET3wK"
      },
      "source": [
        "4.\n",
        "Вивести назви фільмів, яких не має в inventory."
      ]
    },
    {
      "cell_type": "code",
      "execution_count": 55,
      "metadata": {
        "colab": {
          "base_uri": "https://localhost:8080/"
        },
        "id": "LiOdvlQGT3wK",
        "outputId": "4a1d56dc-f178-4256-bb31-9c934566a211"
      },
      "outputs": [
        {
          "output_type": "stream",
          "name": "stdout",
          "text": [
            "+-------+-----+-----------+------------+-----------+--------------------+---------------+-----------+------+----------------+------+-----------+----------------+--------+------------+--------+-----------+\n",
            "|film_id|title|description|release_year|language_id|original_language_id|rental_duration|rental_rate|length|replacement_cost|rating|last_update|special_features|fulltext|inventory_id|store_id|last_update|\n",
            "+-------+-----+-----------+------------+-----------+--------------------+---------------+-----------+------+----------------+------+-----------+----------------+--------+------------+--------+-----------+\n",
            "+-------+-----+-----------+------------+-----------+--------------------+---------------+-----------+------+----------------+------+-----------+----------------+--------+------------+--------+-----------+\n",
            "\n"
          ]
        }
      ],
      "source": [
        "df_joined = film_df.join(inventory_df, on=\"film_id\", how=\"left\")\n",
        "df_joined.filter(df_joined[\"film_id\"].isNull()).show()"
      ]
    },
    {
      "cell_type": "markdown",
      "metadata": {
        "collapsed": false,
        "id": "xLfCYJ3bT3wK"
      },
      "source": [
        "5.\n",
        "Вивести топ 3 актори, які найбільше зʼявлялись в категорії фільмів “Children”"
      ]
    },
    {
      "cell_type": "code",
      "execution_count": 77,
      "metadata": {
        "pycharm": {
          "is_executing": true
        },
        "colab": {
          "base_uri": "https://localhost:8080/"
        },
        "id": "JtqQLnsjT3wK",
        "outputId": "2436e1f6-afc0-4b35-c924-bed9e00e4b2f"
      },
      "outputs": [
        {
          "output_type": "stream",
          "name": "stdout",
          "text": [
            "+----------+---------+\n",
            "|first_name|last_name|\n",
            "+----------+---------+\n",
            "|    WALTER|     TORN|\n",
            "|      GINA|DEGENERES|\n",
            "|      MARY|   KEITEL|\n",
            "+----------+---------+\n",
            "\n"
          ]
        }
      ],
      "source": [
        "df_joined = film_actor_df.join(film_category_df, on=\"film_id\", how=\"inner\")\n",
        "df_joined = df_joined.join(category_df, on=\"category_id\", how=\"inner\")\n",
        "df_joined.filter(df_joined[\"name\"] == 'Children')\n",
        "df_grouped = df_joined.groupBy(\"actor_id\").agg(countDistinct(\"film_id\"))\n",
        "top_actors = df_grouped.sort(df_grouped[\"count(film_id)\"].desc()).limit(3)\n",
        "top_actors.join(actor_df, on=\"actor_id\", how=\"inner\").select([\"first_name\", \"last_name\"]).show()"
      ]
    },
    {
      "cell_type": "code",
      "execution_count": 78,
      "metadata": {
        "colab": {
          "base_uri": "https://localhost:8080/"
        },
        "id": "o-SxPe7JT3wL",
        "outputId": "daea990a-8a4b-4483-e5cf-af8c47a8b3a4"
      },
      "outputs": [
        {
          "output_type": "stream",
          "name": "stdout",
          "text": [
            "+--------+--------------+\n",
            "|actor_id|count(film_id)|\n",
            "+--------+--------------+\n",
            "|     107|            42|\n",
            "|     102|            41|\n",
            "|     198|            40|\n",
            "+--------+--------------+\n",
            "\n"
          ]
        }
      ],
      "source": [
        "top_actors.show()"
      ]
    },
    {
      "cell_type": "markdown",
      "metadata": {
        "collapsed": false,
        "id": "0bg5gHNwT3wL"
      },
      "source": [
        "Stop Spark session:"
      ]
    },
    {
      "cell_type": "code",
      "execution_count": 79,
      "metadata": {
        "id": "xDEOqhv6T3wL"
      },
      "outputs": [],
      "source": [
        "spark.stop()"
      ]
    }
  ],
  "metadata": {
    "kernelspec": {
      "display_name": "Python 3",
      "language": "python",
      "name": "python3"
    },
    "language_info": {
      "codemirror_mode": {
        "name": "ipython",
        "version": 2
      },
      "file_extension": ".py",
      "mimetype": "text/x-python",
      "name": "python",
      "nbconvert_exporter": "python",
      "pygments_lexer": "ipython2",
      "version": "2.7.6"
    },
    "colab": {
      "provenance": []
    }
  },
  "nbformat": 4,
  "nbformat_minor": 0
}